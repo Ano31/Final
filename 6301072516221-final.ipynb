{
 "cells": [
  {
   "cell_type": "markdown",
   "metadata": {},
   "source": []
  },
  {
   "cell_type": "code",
   "execution_count": 4,
   "metadata": {},
   "outputs": [],
   "source": [
    "import cv2\n",
    "cap = cv2.VideoCapture(\"left_output-1.avi\")\n",
    "\n",
    "while (cap.isOpened()) :\n",
    "    res, frame = cap.read()\n",
    "\n",
    "    gray = cv2.cvtColor(frame, cv2.COLOR_BGR2GRAY)\n",
    "    temp = cv2.imread('Template-1 (2).png',0)\n",
    "    width, height = temp.shape[::-1]\n",
    "    result = cv2.matchTemplate(gray,temp,cv2.TM_CCOEFF_NORMED)\n",
    "    val_min, val_max, min_loc, max_loc = cv2.minMaxLoc(result)\n",
    "    t_left = max_loc\n",
    "    b_right = (t_left[0] + width, t_left[1] + height)\n",
    "\n",
    "    cv2.rectangle(frame,t_left, b_right, 255, 2)\n",
    "    cv2.imshow(\"Output\", frame)\n",
    "    if res == True :\n",
    "        # cv2.imshow('Detected template',frame) \n",
    "        if cv2.waitKey(20) & 0xFF == ord(\"a\"):\n",
    "            break\n",
    "cap.release()\n",
    "cv2.destroyAllWindows()"
   ]
  },
  {
   "cell_type": "code",
   "execution_count": 66,
   "metadata": {},
   "outputs": [],
   "source": []
  }
 ],
 "metadata": {
  "kernelspec": {
   "display_name": "Python 3.10.6 64-bit",
   "language": "python",
   "name": "python3"
  },
  "language_info": {
   "codemirror_mode": {
    "name": "ipython",
    "version": 3
   },
   "file_extension": ".py",
   "mimetype": "text/x-python",
   "name": "python",
   "nbconvert_exporter": "python",
   "pygments_lexer": "ipython3",
   "version": "3.10.6"
  },
  "orig_nbformat": 4,
  "vscode": {
   "interpreter": {
    "hash": "a42ccb73e7d9bfdf27e036f1d2b8b681e55fc0743cc5586bc2474d4a60f4b886"
   }
  }
 },
 "nbformat": 4,
 "nbformat_minor": 2
}
